{
 "cells": [
  {
   "cell_type": "markdown",
   "metadata": {},
   "source": [
    "# Type Racer Chatbot Game\n"
   ]
  },
  {
   "cell_type": "markdown",
   "metadata": {},
   "source": [
    "For my final project, I chose to implement a Chatbot for the minigame \"Type Racer\". The game gives players 60 seconds to copy a large text string and scores the player based on accuracy. \n"
   ]
  },
  {
   "cell_type": "markdown",
   "metadata": {},
   "source": [
    "By implementing the features needed to create a Type Racer Chatbot, I hope to meet the following learning objectives:"
   ]
  },
  {
   "cell_type": "markdown",
   "metadata": {},
   "source": [
    "The following is a demonstration of my ChatBot, which is an extension of the one we've created in class."
   ]
  },
  {
   "cell_type": "code",
   "execution_count": 1,
   "metadata": {},
   "outputs": [
    {
     "name": "stdout",
     "output_type": "stream",
     "text": [
      "USER :\thi\n",
      "BOT :\t Hello. I am a typeracer chatbot. Your goal is to type exactly what is given. If you take too long, you lose!You will be scored based on accuracy and timing. To begin, type start. If you'd like to stop, type quit.\n",
      "USER :\tstart\n",
      "BOT :\t =0>+RR6&v3_l<06\"3XlAp9[i5!!0a6(<0_87)>*X9@?A{53+13260kz0si|6!~X6snG/898:N09WM{nt/Q2HC-6R=97.256Y!t5H\n",
      "USER :\tvrvrtbvr\n",
      "BOT :\t Score: 0 - Too many incorrect! To generate a new game, type start\n",
      "USER :\tstart\n",
      "BOT :\t ?8(S$`f0?4/d9ux_ck>X(6pr018FPL6'{Y@6L2(7c}N0\\p8[)|(2.CJZ'B/45T4r*f<~-e;2k31$y48N\"#`)-J?42-{_9N3JCP2$\n",
      "USER :\t?8(S$`f0?4/d\n",
      "BOT :\t Score: 1.7416868209838867. To generate a new game, type start\n",
      "USER :\tstart\n",
      "BOT :\t 6H28umY7r%3Q#oI'$4W*8j9)uz135\"FZG4&09n6~2=X89/Y[r*o1Rg6_2TOw9u)6;8HmYs2>f3G#)2Rmr2M$h?s86JUXF7.S2!_Y\n",
      "USER :\t6H28umY7r%3Q#oI'$4W*8j9)uz135\"FZG4&09n6~2=X89/Y[r*o1Rg6_2TOw9u)6;8HmYs2>f3G#\n",
      "BOT :\t Score: 69.0687735080719. To generate a new game, type start\n",
      "USER :\tstart\n",
      "BOT :\t h0H=d-*/[KM[C29#\\88f'Ve?e6\";;S&B7&=QV8D2Bx_><}AGy]qb`@23u-0+931-43_C\\141W\"_:<.86`5)q15Z5k0:W#Tj&0n3\\\n",
      "USER :\th0H=d-*/[KM[C29#\\88f'Ve?e6\";;S&B7&=QV8D2Bx_><}AGy]qb`@23u-0+931-43_C\\141W\"_:<.86`5)q15Z5k0:W#Tj&0n3\\\n",
      "BOT :\t Score: 0 - Took too long!\n",
      "USER :\tquit\n",
      "BOT :\t Your average score is 17.702615082263947!Thanks for playing\n"
     ]
    }
   ],
   "source": [
    "#importing files\n",
    "from my_module import typerace\n",
    "#chat with Type Racer Bot!\n",
    "typerace.lets_chat()"
   ]
  },
  {
   "cell_type": "markdown",
   "metadata": {},
   "source": [
    "Extra Credit:\n",
    "The project was especially challenging and goes beyond the scope of the class as it implements a feature that have never been introduced. The game uses a timer to determine when the minute ends, which I've never used before. It was especially confusing because I had trouble understanding the difference between the timer object in Thread module and using the time module. We have used something similar (datetime) in this class, but we were told when to use it so it was easier to figure out documentation. Having to figure out when would be best to use the different modules was especially challenging because some of the features in the different modules seemed really similar. After further research about the differences between the thread and time module, I opted for the time module as it fit my implementation better."
   ]
  }
 ],
 "metadata": {
  "kernelspec": {
   "display_name": "Python 3",
   "language": "python",
   "name": "python3"
  },
  "language_info": {
   "codemirror_mode": {
    "name": "ipython",
    "version": 3
   },
   "file_extension": ".py",
   "mimetype": "text/x-python",
   "name": "python",
   "nbconvert_exporter": "python",
   "pygments_lexer": "ipython3",
   "version": "3.6.7"
  }
 },
 "nbformat": 4,
 "nbformat_minor": 2
}
